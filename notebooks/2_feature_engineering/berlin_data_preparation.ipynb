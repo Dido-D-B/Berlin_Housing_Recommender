{
 "cells": [
  {
   "cell_type": "markdown",
   "id": "b8bd822e",
   "metadata": {},
   "source": [
    "# Environment and Data"
   ]
  }
 ],
 "metadata": {
  "kernelspec": {
   "display_name": "venv",
   "language": "python",
   "name": "python3"
  },
  "language_info": {
   "name": "python",
   "version": "3.13.5"
  }
 },
 "nbformat": 4,
 "nbformat_minor": 5
}
