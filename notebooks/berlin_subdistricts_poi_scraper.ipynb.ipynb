{
 "cells": [
  {
   "cell_type": "code",
   "execution_count": 5,
   "id": "b3e4cf9b",
   "metadata": {},
   "outputs": [
    {
     "name": "stdout",
     "output_type": "stream",
     "text": [
      "🔎 Fetching POIs for: ortsteil_0\n",
      "🔎 Fetching POIs for: ortsteil_1\n",
      "🔎 Fetching POIs for: ortsteil_2\n",
      "🔎 Fetching POIs for: ortsteil_3\n",
      "🔎 Fetching POIs for: ortsteil_4\n",
      "🔎 Fetching POIs for: ortsteil_5\n",
      "🔎 Fetching POIs for: ortsteil_6\n",
      "🔎 Fetching POIs for: ortsteil_7\n",
      "🔎 Fetching POIs for: ortsteil_8\n",
      "🔎 Fetching POIs for: ortsteil_9\n",
      "🔎 Fetching POIs for: ortsteil_10\n",
      "🔎 Fetching POIs for: ortsteil_11\n",
      "🔎 Fetching POIs for: ortsteil_12\n",
      "🔎 Fetching POIs for: ortsteil_13\n",
      "🔎 Fetching POIs for: ortsteil_14\n",
      "🔎 Fetching POIs for: ortsteil_15\n",
      "🔎 Fetching POIs for: ortsteil_16\n",
      "🔎 Fetching POIs for: ortsteil_17\n",
      "🔎 Fetching POIs for: ortsteil_18\n",
      "🔎 Fetching POIs for: ortsteil_19\n",
      "🔎 Fetching POIs for: ortsteil_20\n",
      "❌ Failed for ortsteil_20: HTTPSConnectionPool(host='overpass-api.de', port=443): Read timed out. (read timeout=180)\n",
      "🔎 Fetching POIs for: ortsteil_21\n",
      "🔎 Fetching POIs for: ortsteil_22\n",
      "🔎 Fetching POIs for: ortsteil_23\n",
      "🔎 Fetching POIs for: ortsteil_24\n",
      "🔎 Fetching POIs for: ortsteil_25\n",
      "🔎 Fetching POIs for: ortsteil_26\n",
      "🔎 Fetching POIs for: ortsteil_27\n",
      "🔎 Fetching POIs for: ortsteil_28\n",
      "🔎 Fetching POIs for: ortsteil_29\n",
      "🔎 Fetching POIs for: ortsteil_30\n",
      "🔎 Fetching POIs for: ortsteil_31\n",
      "🔎 Fetching POIs for: ortsteil_32\n",
      "🔎 Fetching POIs for: ortsteil_33\n",
      "🔎 Fetching POIs for: ortsteil_34\n",
      "🔎 Fetching POIs for: ortsteil_35\n",
      "🔎 Fetching POIs for: ortsteil_36\n",
      "🔎 Fetching POIs for: ortsteil_37\n",
      "🔎 Fetching POIs for: ortsteil_38\n",
      "🔎 Fetching POIs for: ortsteil_39\n",
      "🔎 Fetching POIs for: ortsteil_40\n",
      "🔎 Fetching POIs for: ortsteil_41\n",
      "🔎 Fetching POIs for: ortsteil_42\n",
      "🔎 Fetching POIs for: ortsteil_43\n",
      "🔎 Fetching POIs for: ortsteil_44\n",
      "🔎 Fetching POIs for: ortsteil_45\n",
      "🔎 Fetching POIs for: ortsteil_46\n",
      "🔎 Fetching POIs for: ortsteil_47\n",
      "🔎 Fetching POIs for: ortsteil_48\n",
      "🔎 Fetching POIs for: ortsteil_49\n",
      "🔎 Fetching POIs for: ortsteil_50\n",
      "🔎 Fetching POIs for: ortsteil_51\n",
      "🔎 Fetching POIs for: ortsteil_52\n",
      "🔎 Fetching POIs for: ortsteil_53\n",
      "🔎 Fetching POIs for: ortsteil_54\n",
      "🔎 Fetching POIs for: ortsteil_55\n",
      "🔎 Fetching POIs for: ortsteil_56\n",
      "🔎 Fetching POIs for: ortsteil_57\n",
      "🔎 Fetching POIs for: ortsteil_58\n",
      "🔎 Fetching POIs for: ortsteil_59\n",
      "🔎 Fetching POIs for: ortsteil_60\n",
      "🔎 Fetching POIs for: ortsteil_61\n",
      "🔎 Fetching POIs for: ortsteil_62\n",
      "🔎 Fetching POIs for: ortsteil_63\n",
      "🔎 Fetching POIs for: ortsteil_64\n",
      "🔎 Fetching POIs for: ortsteil_65\n",
      "🔎 Fetching POIs for: ortsteil_66\n",
      "🔎 Fetching POIs for: ortsteil_67\n",
      "🔎 Fetching POIs for: ortsteil_68\n",
      "🔎 Fetching POIs for: ortsteil_69\n",
      "🔎 Fetching POIs for: ortsteil_70\n",
      "🔎 Fetching POIs for: ortsteil_71\n",
      "🔎 Fetching POIs for: ortsteil_72\n",
      "🔎 Fetching POIs for: ortsteil_73\n",
      "🔎 Fetching POIs for: ortsteil_74\n",
      "🔎 Fetching POIs for: ortsteil_75\n",
      "🔎 Fetching POIs for: ortsteil_76\n",
      "🔎 Fetching POIs for: ortsteil_77\n",
      "🔎 Fetching POIs for: ortsteil_78\n",
      "🔎 Fetching POIs for: ortsteil_79\n",
      "🔎 Fetching POIs for: ortsteil_80\n",
      "🔎 Fetching POIs for: ortsteil_81\n",
      "🔎 Fetching POIs for: ortsteil_82\n",
      "🔎 Fetching POIs for: ortsteil_83\n",
      "🔎 Fetching POIs for: ortsteil_84\n",
      "🔎 Fetching POIs for: ortsteil_85\n",
      "🔎 Fetching POIs for: ortsteil_86\n",
      "🔎 Fetching POIs for: ortsteil_87\n",
      "🔎 Fetching POIs for: ortsteil_88\n",
      "🔎 Fetching POIs for: ortsteil_89\n",
      "🔎 Fetching POIs for: ortsteil_90\n",
      "🔎 Fetching POIs for: ortsteil_91\n",
      "🔎 Fetching POIs for: ortsteil_92\n",
      "🔎 Fetching POIs for: ortsteil_93\n",
      "🔎 Fetching POIs for: ortsteil_94\n",
      "🔎 Fetching POIs for: ortsteil_95\n",
      "\n",
      "✅ Saved 43526 POIs to 'berlin_pois.geojson'\n",
      "⚠️  1 Ortsteile failed and were saved to 'failed_ortsteile.txt'\n"
     ]
    }
   ],
   "source": [
    "import geopandas as gpd\n",
    "import pandas as pd\n",
    "from osmnx.features import features_from_polygon\n",
    "from shapely.geometry import Polygon\n",
    "import time\n",
    "\n",
    "# Load Ortsteil polygons\n",
    "gdf_boundary = gpd.read_file(\"../data/spatial_data/lor_ortsteile.geojson\")\n",
    "\n",
    "# Define tags for POIs\n",
    "tags = {\n",
    "    \"shop\": [\"supermarket\"],\n",
    "    \"amenity\": [\n",
    "        \"cafe\", \"restaurant\", \"bar\", \"nightclub\",\n",
    "        \"school\", \"kindergarten\", \"university\",\n",
    "        \"clinic\", \"hospital\", \"pharmacy\"\n",
    "    ],\n",
    "    \"leisure\": [\"park\", \"playground\"],\n",
    "    \"landuse\": [\"grass\", \"forest\"],\n",
    "    \"natural\": [\"wood\"]\n",
    "}\n",
    "\n",
    "# Empty lists to collect data\n",
    "pois_list = []\n",
    "failed_ortsteile = []\n",
    "\n",
    "# Loop through Ortsteile\n",
    "for i, row in gdf_boundary.iterrows():\n",
    "    ortsteil_name = row['name'] if 'name' in row else f\"ortsteil_{i}\"\n",
    "    polygon = row['geometry']\n",
    "    \n",
    "    try:\n",
    "        print(f\"🔎 Fetching POIs for: {ortsteil_name}\")\n",
    "        pois = features_from_polygon(polygon, tags)\n",
    "        pois[\"ortsteil\"] = ortsteil_name\n",
    "        pois_list.append(pois)\n",
    "        time.sleep(2)  # polite pause between requests\n",
    "    except Exception as e:\n",
    "        print(f\"❌ Failed for {ortsteil_name}: {e}\")\n",
    "        failed_ortsteile.append(ortsteil_name)\n",
    "\n",
    "# Save failed list (optional)\n",
    "with open(\"failed_ortsteile.txt\", \"w\") as f:\n",
    "    for item in failed_ortsteile:\n",
    "        f.write(f\"{item}\\n\")\n",
    "\n",
    "# Combine successful POIs\n",
    "gdf_pois = gpd.GeoDataFrame(pd.concat(pois_list, ignore_index=True))\n",
    "\n",
    "# Save to file\n",
    "gdf_pois.to_file(\"berlin_pois.geojson\", driver=\"GeoJSON\")\n",
    "\n",
    "print(f\"\\n✅ Saved {len(gdf_pois)} POIs to 'berlin_pois.geojson'\")\n",
    "print(f\"⚠️  {len(failed_ortsteile)} Ortsteile failed and were saved to 'failed_ortsteile.txt'\")"
   ]
  },
  {
   "cell_type": "code",
   "execution_count": 7,
   "id": "0dc417ae",
   "metadata": {},
   "outputs": [
    {
     "name": "stdout",
     "output_type": "stream",
     "text": [
      "🔁 Retrying POIs for: Wilhelmsruh\n",
      "✅ Successfully saved retry POIs.\n"
     ]
    }
   ],
   "source": [
    "import geopandas as gpd\n",
    "from osmnx.features import features_from_polygon\n",
    "import pandas as pd\n",
    "\n",
    "# Load Ortsteil polygons\n",
    "gdf_boundary = gpd.read_file(\"../data/spatial_data/lor_ortsteile.geojson\")\n",
    "\n",
    "# Index of the failed Ortsteil\n",
    "index = 20\n",
    "\n",
    "# Extract geometry and name\n",
    "polygon = gdf_boundary.iloc[index].geometry\n",
    "ortsteil_name = gdf_boundary.iloc[index][\"OTEIL\"]\n",
    "\n",
    "# Define OSM tags\n",
    "tags = {\n",
    "    \"amenity\": [\"restaurant\", \"bar\", \"cafe\", \"pub\", \"fast_food\", \"nightclub\", \n",
    "                \"school\", \"kindergarten\", \"university\", \"clinic\", \"hospital\", \"pharmacy\"],\n",
    "    \"shop\": [\"supermarket\"],\n",
    "    \"leisure\": [\"park\", \"playground\"],\n",
    "    \"landuse\": [\"grass\", \"forest\"],\n",
    "    \"natural\": [\"wood\"]\n",
    "}\n",
    "\n",
    "# Retry fetching POIs\n",
    "try:\n",
    "    print(f\"🔁 Retrying POIs for: {ortsteil_name}\")\n",
    "    pois = features_from_polygon(polygon, tags)\n",
    "    pois[\"ortsteil\"] = ortsteil_name\n",
    "    pois[\"ortsteil_index\"] = index\n",
    "    pois.to_file(\"berlin_pois_ortsteil_20.geojson\", driver=\"GeoJSON\")\n",
    "    print(\"✅ Successfully saved retry POIs.\")\n",
    "except Exception as e:\n",
    "    print(f\"❌ Retry failed: {e}\")"
   ]
  },
  {
   "cell_type": "code",
   "execution_count": 5,
   "id": "6f32831c",
   "metadata": {},
   "outputs": [
    {
     "name": "stdout",
     "output_type": "stream",
     "text": [
      "Index(['gml_id', 'spatial_name', 'spatial_alias', 'spatial_type', 'OTEIL',\n",
      "       'BEZIRK', 'FLAECHE_HA', 'geometry'],\n",
      "      dtype='object')\n"
     ]
    }
   ],
   "source": [
    "print(gdf_boundary.columns)"
   ]
  },
  {
   "cell_type": "code",
   "execution_count": 8,
   "id": "2c3da199",
   "metadata": {},
   "outputs": [
    {
     "name": "stderr",
     "output_type": "stream",
     "text": [
      "Skipping field contact:phone:description: unsupported OGR type: 10\n",
      "Skipping field opening_hours:checkin: unsupported OGR type: 10\n"
     ]
    }
   ],
   "source": [
    "# Load existing Berlin POIs\n",
    "gdf_all_pois = gpd.read_file(\"berlin_pois.geojson\")\n",
    "\n",
    "# Load the retry POIs\n",
    "gdf_retry = gpd.read_file(\"berlin_pois_ortsteil_20.geojson\")\n",
    "\n",
    "# Concatenate\n",
    "gdf_pois_combined = pd.concat([gdf_all_pois, gdf_retry], ignore_index=True)\n",
    "\n",
    "# Optional: Save updated full POI file\n",
    "gdf_pois_combined.to_file(\"berlin_pois_full.geojson\", driver=\"GeoJSON\")"
   ]
  },
  {
   "cell_type": "code",
   "execution_count": 9,
   "id": "c302768a",
   "metadata": {},
   "outputs": [
    {
     "name": "stderr",
     "output_type": "stream",
     "text": [
      "/opt/anaconda3/envs/venv310/lib/python3.10/site-packages/geopandas/geodataframe.py:1968: PerformanceWarning: DataFrame is highly fragmented.  This is usually the result of calling `frame.insert` many times, which has poor performance.  Consider joining all columns at once using pd.concat(axis=1) instead. To get a de-fragmented frame, use `newframe = frame.copy()`\n",
      "  super().__setitem__(key, value)\n",
      "/opt/anaconda3/envs/venv310/lib/python3.10/site-packages/geopandas/geodataframe.py:1968: PerformanceWarning: DataFrame is highly fragmented.  This is usually the result of calling `frame.insert` many times, which has poor performance.  Consider joining all columns at once using pd.concat(axis=1) instead. To get a de-fragmented frame, use `newframe = frame.copy()`\n",
      "  super().__setitem__(key, value)\n"
     ]
    }
   ],
   "source": [
    "# Flatten tag values into a new column\n",
    "gdf_pois_combined[\"main_tag\"] = gdf_pois_combined.apply(\n",
    "    lambda row: next((k for k in tags.keys() if k in row and pd.notnull(row[k])), None), axis=1\n",
    ")\n",
    "\n",
    "gdf_pois_combined[\"tag_value\"] = gdf_pois_combined.apply(\n",
    "    lambda row: row[row[\"main_tag\"]] if pd.notnull(row[\"main_tag\"]) else None, axis=1\n",
    ")\n",
    "\n",
    "# Group by Ortsteil and tag value\n",
    "poi_counts = gdf_pois_combined.groupby([\"ortsteil\", \"tag_value\"]).size().unstack(fill_value=0).reset_index()\n",
    "\n",
    "# Optional: Save as CSV\n",
    "poi_counts.to_csv(\"berlin_poi_counts_per_ortsteil.csv\", index=False)"
   ]
  },
  {
   "cell_type": "code",
   "execution_count": 10,
   "id": "2027095a",
   "metadata": {},
   "outputs": [],
   "source": [
    "# Load the aggregated POI counts\n",
    "df_poi_counts = pd.read_csv(\"berlin_poi_counts_per_ortsteil.csv\")\n",
    "\n",
    "# Rename tag columns\n",
    "df_poi_counts.rename(columns={\n",
    "    \"supermarket\": \"subdistrict_num_supermarkets\",\n",
    "    \"cafe\": \"subdistrict_num_cafes\",\n",
    "    \"restaurant\": \"subdistrict_num_restaurants\",\n",
    "    \"bar\": \"subdistrict_num_bars\",\n",
    "    \"nightclub\": \"subdistrict_num_nightclubs\",\n",
    "    \"park\": \"subdistrict_num_parks\",\n",
    "    \"playground\": \"subdistrict_num_playgrounds\",\n",
    "    \"grass\": \"subdistrict_num_grass_areas\",\n",
    "    \"forest\": \"subdistrict_num_forests\",\n",
    "    \"wood\": \"subdistrict_num_wood_areas\",\n",
    "    \"school\": \"subdistrict_num_schools\",\n",
    "    \"kindergarten\": \"subdistrict_num_kindergartens\",\n",
    "    \"university\": \"subdistrict_num_universities\",\n",
    "    \"clinic\": \"subdistrict_num_clinics\",\n",
    "    \"hospital\": \"subdistrict_num_hospitals\",\n",
    "    \"pharmacy\": \"subdistrict_num_pharmacies\"\n",
    "}, inplace=True)\n",
    "\n",
    "# Optional: save clean version\n",
    "df_poi_counts.to_csv(\"berlin_poi_counts_cleaned.csv\", index=False)"
   ]
  },
  {
   "cell_type": "code",
   "execution_count": 14,
   "id": "605e4c45",
   "metadata": {},
   "outputs": [],
   "source": [
    "# Load your master table\n",
    "df_master = pd.read_csv(\"../data/master_tables/berlin_ortsteil_master_table.csv\")\n",
    "\n",
    "# Merge on Ortsteil name\n",
    "df_final = df_master.merge(df_poi_counts, how=\"left\", on=\"ortsteil\")\n",
    "\n",
    "# Fill missing POI values with 0\n",
    "df_final.fillna(0, inplace=True)\n",
    "\n",
    "# Save the final enriched dataset\n",
    "df_final.to_csv(\"berlin_ortsteil_master_with_poi_features.csv\", index=False)"
   ]
  },
  {
   "cell_type": "code",
   "execution_count": 13,
   "id": "8f772e4b",
   "metadata": {},
   "outputs": [
    {
     "name": "stdout",
     "output_type": "stream",
     "text": [
      "['bezirk', 'ortsteil', 'subdistrict_population_age_0_5', 'subdistrict_population_age_5_10', 'subdistrict_population_age_10_15', 'subdistrict_population_age_15_20', 'subdistrict_population_age_20_25', 'subdistrict_population_age_25_30', 'subdistrict_population_age_30_35', 'subdistrict_population_age_35_40', 'subdistrict_population_age_40_45', 'subdistrict_population_age_45_50', 'subdistrict_population_age_50_55', 'subdistrict_population_age_55_60', 'subdistrict_population_age_60_65', 'subdistrict_population_age_65_70', 'subdistrict_population_age_70_75', 'subdistrict_population_age_75_80', 'subdistrict_population_age_80_85', 'subdistrict_population_age_85_90', 'subdistrict_population_age_90_95', 'subdistrict_population_age_95_plus', 'subdistrict_male_population', 'subdistrict_female_population', 'total_population', 'subdistrict_senior_population', 'subdistrict_youth_population', 'subdistrict_senior_share', 'subdistrict_youth_share', 'subdistrict_middle_age_population', 'subdistrict_avg_mietspiegel_classification', 'subdistrict_total_full_time_employees', 'subdistrict_avg_median_income_eur', 'classification_category']\n"
     ]
    }
   ],
   "source": [
    "print(df_master.columns.tolist())"
   ]
  }
 ],
 "metadata": {
  "kernelspec": {
   "display_name": "venv310",
   "language": "python",
   "name": "python3"
  },
  "language_info": {
   "codemirror_mode": {
    "name": "ipython",
    "version": 3
   },
   "file_extension": ".py",
   "mimetype": "text/x-python",
   "name": "python",
   "nbconvert_exporter": "python",
   "pygments_lexer": "ipython3",
   "version": "3.10.18"
  }
 },
 "nbformat": 4,
 "nbformat_minor": 5
}
