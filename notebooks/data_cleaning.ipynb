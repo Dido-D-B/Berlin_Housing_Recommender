{
 "cells": [
  {
   "cell_type": "markdown",
   "id": "200bfb91",
   "metadata": {},
   "source": [
    "# Street Directory Rental Map 2024"
   ]
  },
  {
   "cell_type": "markdown",
   "id": "c94d29d3",
   "metadata": {},
   "source": [
    "## Environment and raw data"
   ]
  },
  {
   "cell_type": "code",
   "execution_count": 3,
   "id": "d1a22349",
   "metadata": {},
   "outputs": [],
   "source": [
    "import pandas as pd\n",
    "import numpy as np\n",
    "import os\n",
    "import matplotlib.pyplot as plt\n",
    "import seaborn as sns"
   ]
  },
  {
   "cell_type": "code",
   "execution_count": 4,
   "id": "03cd3707",
   "metadata": {},
   "outputs": [
    {
     "ename": "FileNotFoundError",
     "evalue": "[Errno 2] No such file or directory: '../data/street_directory_rental_map_2024.csv'",
     "output_type": "error",
     "traceback": [
      "\u001b[31m---------------------------------------------------------------------------\u001b[39m",
      "\u001b[31mFileNotFoundError\u001b[39m                         Traceback (most recent call last)",
      "\u001b[36mCell\u001b[39m\u001b[36m \u001b[39m\u001b[32mIn[4]\u001b[39m\u001b[32m, line 2\u001b[39m\n\u001b[32m      1\u001b[39m \u001b[38;5;66;03m# Load street directory 2024 CSV\u001b[39;00m\n\u001b[32m----> \u001b[39m\u001b[32m2\u001b[39m df_2024 = \u001b[43mpd\u001b[49m\u001b[43m.\u001b[49m\u001b[43mread_csv\u001b[49m\u001b[43m(\u001b[49m\u001b[33;43m\"\u001b[39;49m\u001b[33;43m../data/street_directory_rental_map_2024.csv\u001b[39;49m\u001b[33;43m\"\u001b[39;49m\u001b[43m)\u001b[49m\n\u001b[32m      3\u001b[39m df_2024.head()\n",
      "\u001b[36mFile \u001b[39m\u001b[32m~/Documents/Projects/Berlin_Housing_Affordability/venv/lib/python3.13/site-packages/pandas/io/parsers/readers.py:1026\u001b[39m, in \u001b[36mread_csv\u001b[39m\u001b[34m(filepath_or_buffer, sep, delimiter, header, names, index_col, usecols, dtype, engine, converters, true_values, false_values, skipinitialspace, skiprows, skipfooter, nrows, na_values, keep_default_na, na_filter, verbose, skip_blank_lines, parse_dates, infer_datetime_format, keep_date_col, date_parser, date_format, dayfirst, cache_dates, iterator, chunksize, compression, thousands, decimal, lineterminator, quotechar, quoting, doublequote, escapechar, comment, encoding, encoding_errors, dialect, on_bad_lines, delim_whitespace, low_memory, memory_map, float_precision, storage_options, dtype_backend)\u001b[39m\n\u001b[32m   1013\u001b[39m kwds_defaults = _refine_defaults_read(\n\u001b[32m   1014\u001b[39m     dialect,\n\u001b[32m   1015\u001b[39m     delimiter,\n\u001b[32m   (...)\u001b[39m\u001b[32m   1022\u001b[39m     dtype_backend=dtype_backend,\n\u001b[32m   1023\u001b[39m )\n\u001b[32m   1024\u001b[39m kwds.update(kwds_defaults)\n\u001b[32m-> \u001b[39m\u001b[32m1026\u001b[39m \u001b[38;5;28;01mreturn\u001b[39;00m \u001b[43m_read\u001b[49m\u001b[43m(\u001b[49m\u001b[43mfilepath_or_buffer\u001b[49m\u001b[43m,\u001b[49m\u001b[43m \u001b[49m\u001b[43mkwds\u001b[49m\u001b[43m)\u001b[49m\n",
      "\u001b[36mFile \u001b[39m\u001b[32m~/Documents/Projects/Berlin_Housing_Affordability/venv/lib/python3.13/site-packages/pandas/io/parsers/readers.py:620\u001b[39m, in \u001b[36m_read\u001b[39m\u001b[34m(filepath_or_buffer, kwds)\u001b[39m\n\u001b[32m    617\u001b[39m _validate_names(kwds.get(\u001b[33m\"\u001b[39m\u001b[33mnames\u001b[39m\u001b[33m\"\u001b[39m, \u001b[38;5;28;01mNone\u001b[39;00m))\n\u001b[32m    619\u001b[39m \u001b[38;5;66;03m# Create the parser.\u001b[39;00m\n\u001b[32m--> \u001b[39m\u001b[32m620\u001b[39m parser = \u001b[43mTextFileReader\u001b[49m\u001b[43m(\u001b[49m\u001b[43mfilepath_or_buffer\u001b[49m\u001b[43m,\u001b[49m\u001b[43m \u001b[49m\u001b[43m*\u001b[49m\u001b[43m*\u001b[49m\u001b[43mkwds\u001b[49m\u001b[43m)\u001b[49m\n\u001b[32m    622\u001b[39m \u001b[38;5;28;01mif\u001b[39;00m chunksize \u001b[38;5;129;01mor\u001b[39;00m iterator:\n\u001b[32m    623\u001b[39m     \u001b[38;5;28;01mreturn\u001b[39;00m parser\n",
      "\u001b[36mFile \u001b[39m\u001b[32m~/Documents/Projects/Berlin_Housing_Affordability/venv/lib/python3.13/site-packages/pandas/io/parsers/readers.py:1620\u001b[39m, in \u001b[36mTextFileReader.__init__\u001b[39m\u001b[34m(self, f, engine, **kwds)\u001b[39m\n\u001b[32m   1617\u001b[39m     \u001b[38;5;28mself\u001b[39m.options[\u001b[33m\"\u001b[39m\u001b[33mhas_index_names\u001b[39m\u001b[33m\"\u001b[39m] = kwds[\u001b[33m\"\u001b[39m\u001b[33mhas_index_names\u001b[39m\u001b[33m\"\u001b[39m]\n\u001b[32m   1619\u001b[39m \u001b[38;5;28mself\u001b[39m.handles: IOHandles | \u001b[38;5;28;01mNone\u001b[39;00m = \u001b[38;5;28;01mNone\u001b[39;00m\n\u001b[32m-> \u001b[39m\u001b[32m1620\u001b[39m \u001b[38;5;28mself\u001b[39m._engine = \u001b[38;5;28;43mself\u001b[39;49m\u001b[43m.\u001b[49m\u001b[43m_make_engine\u001b[49m\u001b[43m(\u001b[49m\u001b[43mf\u001b[49m\u001b[43m,\u001b[49m\u001b[43m \u001b[49m\u001b[38;5;28;43mself\u001b[39;49m\u001b[43m.\u001b[49m\u001b[43mengine\u001b[49m\u001b[43m)\u001b[49m\n",
      "\u001b[36mFile \u001b[39m\u001b[32m~/Documents/Projects/Berlin_Housing_Affordability/venv/lib/python3.13/site-packages/pandas/io/parsers/readers.py:1880\u001b[39m, in \u001b[36mTextFileReader._make_engine\u001b[39m\u001b[34m(self, f, engine)\u001b[39m\n\u001b[32m   1878\u001b[39m     \u001b[38;5;28;01mif\u001b[39;00m \u001b[33m\"\u001b[39m\u001b[33mb\u001b[39m\u001b[33m\"\u001b[39m \u001b[38;5;129;01mnot\u001b[39;00m \u001b[38;5;129;01min\u001b[39;00m mode:\n\u001b[32m   1879\u001b[39m         mode += \u001b[33m\"\u001b[39m\u001b[33mb\u001b[39m\u001b[33m\"\u001b[39m\n\u001b[32m-> \u001b[39m\u001b[32m1880\u001b[39m \u001b[38;5;28mself\u001b[39m.handles = \u001b[43mget_handle\u001b[49m\u001b[43m(\u001b[49m\n\u001b[32m   1881\u001b[39m \u001b[43m    \u001b[49m\u001b[43mf\u001b[49m\u001b[43m,\u001b[49m\n\u001b[32m   1882\u001b[39m \u001b[43m    \u001b[49m\u001b[43mmode\u001b[49m\u001b[43m,\u001b[49m\n\u001b[32m   1883\u001b[39m \u001b[43m    \u001b[49m\u001b[43mencoding\u001b[49m\u001b[43m=\u001b[49m\u001b[38;5;28;43mself\u001b[39;49m\u001b[43m.\u001b[49m\u001b[43moptions\u001b[49m\u001b[43m.\u001b[49m\u001b[43mget\u001b[49m\u001b[43m(\u001b[49m\u001b[33;43m\"\u001b[39;49m\u001b[33;43mencoding\u001b[39;49m\u001b[33;43m\"\u001b[39;49m\u001b[43m,\u001b[49m\u001b[43m \u001b[49m\u001b[38;5;28;43;01mNone\u001b[39;49;00m\u001b[43m)\u001b[49m\u001b[43m,\u001b[49m\n\u001b[32m   1884\u001b[39m \u001b[43m    \u001b[49m\u001b[43mcompression\u001b[49m\u001b[43m=\u001b[49m\u001b[38;5;28;43mself\u001b[39;49m\u001b[43m.\u001b[49m\u001b[43moptions\u001b[49m\u001b[43m.\u001b[49m\u001b[43mget\u001b[49m\u001b[43m(\u001b[49m\u001b[33;43m\"\u001b[39;49m\u001b[33;43mcompression\u001b[39;49m\u001b[33;43m\"\u001b[39;49m\u001b[43m,\u001b[49m\u001b[43m \u001b[49m\u001b[38;5;28;43;01mNone\u001b[39;49;00m\u001b[43m)\u001b[49m\u001b[43m,\u001b[49m\n\u001b[32m   1885\u001b[39m \u001b[43m    \u001b[49m\u001b[43mmemory_map\u001b[49m\u001b[43m=\u001b[49m\u001b[38;5;28;43mself\u001b[39;49m\u001b[43m.\u001b[49m\u001b[43moptions\u001b[49m\u001b[43m.\u001b[49m\u001b[43mget\u001b[49m\u001b[43m(\u001b[49m\u001b[33;43m\"\u001b[39;49m\u001b[33;43mmemory_map\u001b[39;49m\u001b[33;43m\"\u001b[39;49m\u001b[43m,\u001b[49m\u001b[43m \u001b[49m\u001b[38;5;28;43;01mFalse\u001b[39;49;00m\u001b[43m)\u001b[49m\u001b[43m,\u001b[49m\n\u001b[32m   1886\u001b[39m \u001b[43m    \u001b[49m\u001b[43mis_text\u001b[49m\u001b[43m=\u001b[49m\u001b[43mis_text\u001b[49m\u001b[43m,\u001b[49m\n\u001b[32m   1887\u001b[39m \u001b[43m    \u001b[49m\u001b[43merrors\u001b[49m\u001b[43m=\u001b[49m\u001b[38;5;28;43mself\u001b[39;49m\u001b[43m.\u001b[49m\u001b[43moptions\u001b[49m\u001b[43m.\u001b[49m\u001b[43mget\u001b[49m\u001b[43m(\u001b[49m\u001b[33;43m\"\u001b[39;49m\u001b[33;43mencoding_errors\u001b[39;49m\u001b[33;43m\"\u001b[39;49m\u001b[43m,\u001b[49m\u001b[43m \u001b[49m\u001b[33;43m\"\u001b[39;49m\u001b[33;43mstrict\u001b[39;49m\u001b[33;43m\"\u001b[39;49m\u001b[43m)\u001b[49m\u001b[43m,\u001b[49m\n\u001b[32m   1888\u001b[39m \u001b[43m    \u001b[49m\u001b[43mstorage_options\u001b[49m\u001b[43m=\u001b[49m\u001b[38;5;28;43mself\u001b[39;49m\u001b[43m.\u001b[49m\u001b[43moptions\u001b[49m\u001b[43m.\u001b[49m\u001b[43mget\u001b[49m\u001b[43m(\u001b[49m\u001b[33;43m\"\u001b[39;49m\u001b[33;43mstorage_options\u001b[39;49m\u001b[33;43m\"\u001b[39;49m\u001b[43m,\u001b[49m\u001b[43m \u001b[49m\u001b[38;5;28;43;01mNone\u001b[39;49;00m\u001b[43m)\u001b[49m\u001b[43m,\u001b[49m\n\u001b[32m   1889\u001b[39m \u001b[43m\u001b[49m\u001b[43m)\u001b[49m\n\u001b[32m   1890\u001b[39m \u001b[38;5;28;01massert\u001b[39;00m \u001b[38;5;28mself\u001b[39m.handles \u001b[38;5;129;01mis\u001b[39;00m \u001b[38;5;129;01mnot\u001b[39;00m \u001b[38;5;28;01mNone\u001b[39;00m\n\u001b[32m   1891\u001b[39m f = \u001b[38;5;28mself\u001b[39m.handles.handle\n",
      "\u001b[36mFile \u001b[39m\u001b[32m~/Documents/Projects/Berlin_Housing_Affordability/venv/lib/python3.13/site-packages/pandas/io/common.py:873\u001b[39m, in \u001b[36mget_handle\u001b[39m\u001b[34m(path_or_buf, mode, encoding, compression, memory_map, is_text, errors, storage_options)\u001b[39m\n\u001b[32m    868\u001b[39m \u001b[38;5;28;01melif\u001b[39;00m \u001b[38;5;28misinstance\u001b[39m(handle, \u001b[38;5;28mstr\u001b[39m):\n\u001b[32m    869\u001b[39m     \u001b[38;5;66;03m# Check whether the filename is to be opened in binary mode.\u001b[39;00m\n\u001b[32m    870\u001b[39m     \u001b[38;5;66;03m# Binary mode does not support 'encoding' and 'newline'.\u001b[39;00m\n\u001b[32m    871\u001b[39m     \u001b[38;5;28;01mif\u001b[39;00m ioargs.encoding \u001b[38;5;129;01mand\u001b[39;00m \u001b[33m\"\u001b[39m\u001b[33mb\u001b[39m\u001b[33m\"\u001b[39m \u001b[38;5;129;01mnot\u001b[39;00m \u001b[38;5;129;01min\u001b[39;00m ioargs.mode:\n\u001b[32m    872\u001b[39m         \u001b[38;5;66;03m# Encoding\u001b[39;00m\n\u001b[32m--> \u001b[39m\u001b[32m873\u001b[39m         handle = \u001b[38;5;28;43mopen\u001b[39;49m\u001b[43m(\u001b[49m\n\u001b[32m    874\u001b[39m \u001b[43m            \u001b[49m\u001b[43mhandle\u001b[49m\u001b[43m,\u001b[49m\n\u001b[32m    875\u001b[39m \u001b[43m            \u001b[49m\u001b[43mioargs\u001b[49m\u001b[43m.\u001b[49m\u001b[43mmode\u001b[49m\u001b[43m,\u001b[49m\n\u001b[32m    876\u001b[39m \u001b[43m            \u001b[49m\u001b[43mencoding\u001b[49m\u001b[43m=\u001b[49m\u001b[43mioargs\u001b[49m\u001b[43m.\u001b[49m\u001b[43mencoding\u001b[49m\u001b[43m,\u001b[49m\n\u001b[32m    877\u001b[39m \u001b[43m            \u001b[49m\u001b[43merrors\u001b[49m\u001b[43m=\u001b[49m\u001b[43merrors\u001b[49m\u001b[43m,\u001b[49m\n\u001b[32m    878\u001b[39m \u001b[43m            \u001b[49m\u001b[43mnewline\u001b[49m\u001b[43m=\u001b[49m\u001b[33;43m\"\u001b[39;49m\u001b[33;43m\"\u001b[39;49m\u001b[43m,\u001b[49m\n\u001b[32m    879\u001b[39m \u001b[43m        \u001b[49m\u001b[43m)\u001b[49m\n\u001b[32m    880\u001b[39m     \u001b[38;5;28;01melse\u001b[39;00m:\n\u001b[32m    881\u001b[39m         \u001b[38;5;66;03m# Binary mode\u001b[39;00m\n\u001b[32m    882\u001b[39m         handle = \u001b[38;5;28mopen\u001b[39m(handle, ioargs.mode)\n",
      "\u001b[31mFileNotFoundError\u001b[39m: [Errno 2] No such file or directory: '../data/street_directory_rental_map_2024.csv'"
     ]
    }
   ],
   "source": [
    "# Load street directory 2024 CSV\n",
    "df_2024 = pd.read_csv(\"../data/street_directory_rental_map_2024.csv\")\n",
    "df_2024.head()"
   ]
  },
  {
   "cell_type": "markdown",
   "id": "d4a1f754",
   "metadata": {},
   "source": [
    "## Slit table"
   ]
  },
  {
   "cell_type": "code",
   "execution_count": null,
   "id": "5481896e",
   "metadata": {},
   "outputs": [],
   "source": [
    "# Split into left and right halves\n",
    "df_left = df_2024.iloc[:, 0:5].copy()   \n",
    "df_right = df_2024.iloc[:, 5:12].copy() "
   ]
  },
  {
   "cell_type": "code",
   "execution_count": null,
   "id": "26cfc0e0",
   "metadata": {},
   "outputs": [],
   "source": [
    "df_left.columns = [\"street_name\", \"location_code\", \"house_number_range\", \"house_number_scheme\", \"classification\"]\n",
    "df_right.columns = [\"street_name\", \"location_code\", \"house_number_range\", \"house_number_scheme\", \"classification\"]\n",
    "\n",
    "df_left = df_left.dropna(subset=[\"street_name\"])\n",
    "df_right = df_right.dropna(subset=[\"street_name\"])\n",
    "\n",
    "df_combined = pd.concat([df_left, df_right], ignore_index=True)\n",
    "\n",
    "# First, ensure column is string and NaNs are handled\n",
    "df_combined[\"location_code\"] = df_combined[\"location_code\"].astype(str).fillna(\"\")\n",
    "\n",
    "# Split into up to 3 parts\n",
    "split_cols = df_combined[\"location_code\"].str.split(\" \", n=2, expand=True)\n",
    "\n",
    "# Assign with fallbacks\n",
    "df_combined[\"district_code\"] = split_cols[0]\n",
    "df_combined[\"street_side\"] = split_cols[1]\n",
    "df_combined[\"house_number\"] = split_cols[2]  # will be NaN if missing\n",
    "\n",
    "df_combined.drop(columns=[\"location_code\"], inplace=True)"
   ]
  },
  {
   "cell_type": "markdown",
   "id": "2e7772f3",
   "metadata": {},
   "source": [
    "## NaN values "
   ]
  },
  {
   "cell_type": "code",
   "execution_count": null,
   "id": "1312b0fc",
   "metadata": {},
   "outputs": [
    {
     "data": {
      "text/plain": [
       "street_name                0\n",
       "house_number_range      9624\n",
       "house_number_scheme       26\n",
       "classification            26\n",
       "district_code              0\n",
       "street_side              101\n",
       "house_number           12809\n",
       "dtype: int64"
      ]
     },
     "execution_count": 5,
     "metadata": {},
     "output_type": "execute_result"
    }
   ],
   "source": [
    "df_combined.isnull().sum()"
   ]
  },
  {
   "cell_type": "code",
   "execution_count": null,
   "id": "6d5430db",
   "metadata": {},
   "outputs": [],
   "source": [
    "df_combined = df_combined[df_combined[\"classification\"].notna()]"
   ]
  },
  {
   "cell_type": "markdown",
   "id": "6321b152",
   "metadata": {},
   "source": [
    "## Duplicates"
   ]
  },
  {
   "cell_type": "code",
   "execution_count": null,
   "id": "c6f40530",
   "metadata": {},
   "outputs": [
    {
     "data": {
      "text/plain": [
       "np.int64(185)"
      ]
     },
     "execution_count": 7,
     "metadata": {},
     "output_type": "execute_result"
    }
   ],
   "source": [
    "df_combined.duplicated().sum()\n"
   ]
  },
  {
   "cell_type": "code",
   "execution_count": null,
   "id": "89f3fbe9",
   "metadata": {},
   "outputs": [],
   "source": [
    "df_combined = df_combined.drop_duplicates()"
   ]
  },
  {
   "cell_type": "markdown",
   "id": "57824fb4",
   "metadata": {},
   "source": [
    "## House Number Ranges"
   ]
  },
  {
   "cell_type": "code",
   "execution_count": null,
   "id": "f6d44920",
   "metadata": {},
   "outputs": [],
   "source": [
    "# If house_number is missing, keep house_number_range only\n",
    "df_combined[\"house_number_range\"] = df_combined.apply(\n",
    "    lambda row: f\"{row['house_number']} {row['house_number_range']}\".strip()\n",
    "    if pd.notnull(row['house_number']) and pd.notnull(row['house_number_range'])\n",
    "    else row['house_number_range'] if pd.isnull(row['house_number']) else str(row['house_number']),\n",
    "    axis=1\n",
    ")\n",
    "\n",
    "# Drop the now redundant 'house_number' column\n",
    "df_combined.drop(columns=[\"house_number\"], inplace=True)"
   ]
  },
  {
   "cell_type": "code",
   "execution_count": null,
   "id": "0c184713",
   "metadata": {},
   "outputs": [],
   "source": [
    "df_combined[\"house_number_range\"] = df_combined[\"house_number_range\"].fillna(\"whole street\")"
   ]
  },
  {
   "cell_type": "markdown",
   "id": "bd74df1d",
   "metadata": {},
   "source": [
    "## House Number Scheme"
   ]
  },
  {
   "cell_type": "code",
   "execution_count": null,
   "id": "c5cf4c5e",
   "metadata": {},
   "outputs": [],
   "source": [
    "scheme_map = {\n",
    "    \"K\": \"Complete street\",\n",
    "    \"F\": \"Consecutive numbering\",\n",
    "    \"G\": \"Even numbers only\",\n",
    "    \"U\": \"Odd numbers only\"\n",
    "}\n",
    "\n",
    "df_combined[\"house_number_scheme_label\"] = df_combined[\"house_number_scheme\"].map(scheme_map)"
   ]
  },
  {
   "cell_type": "markdown",
   "id": "c259582b",
   "metadata": {},
   "source": [
    "## District"
   ]
  },
  {
   "cell_type": "code",
   "execution_count": null,
   "id": "e79d8ec3",
   "metadata": {},
   "outputs": [],
   "source": [
    "district_map = {\n",
    "    \"ChWi\": \"Charlottenburg-Wilmersdorf\",\n",
    "    \"FrKr\": \"Friedrichshain-Kreuzberg\",\n",
    "    \"Lich\": \"Lichtenberg\",\n",
    "    \"MaHe\": \"Marzahn-Hellersdorf\",\n",
    "    \"Mitt\": \"Mitte\",\n",
    "    \"Neuk\": \"Neukölln\",\n",
    "    \"Pank\": \"Pankow\",\n",
    "    \"Rein\": \"Reinickendorf\",\n",
    "    \"Span\": \"Spandau\",\n",
    "    \"StZe\": \"Steglitz-Zehlendorf\",\n",
    "    \"TrKö\": \"Treptow-Köpenick\",\n",
    "    \"TSch\": \"Tempelhof-Schöneberg\"\n",
    "}\n",
    "\n",
    "df_combined[\"district\"] = df_combined[\"district_code\"].map(district_map)"
   ]
  },
  {
   "cell_type": "code",
   "execution_count": null,
   "id": "253a3441",
   "metadata": {},
   "outputs": [],
   "source": [
    "# drop district code column\n",
    "df_combined.drop(columns=[\"district_code\"], inplace=True)"
   ]
  },
  {
   "cell_type": "markdown",
   "id": "93cab5fd",
   "metadata": {},
   "source": [
    "## Terretorial Side"
   ]
  },
  {
   "cell_type": "code",
   "execution_count": null,
   "id": "cd6e459f",
   "metadata": {},
   "outputs": [],
   "source": [
    "side_map = {\n",
    "    \"W\": \"West (pre-2000)\",\n",
    "    \"O\": \"East + West-Staaken (pre-2000)\"\n",
    "}\n",
    "df_combined[\"street_side\"] = df_combined[\"street_side\"].map(side_map)"
   ]
  },
  {
   "cell_type": "markdown",
   "id": "a64a4407",
   "metadata": {},
   "source": [
    "## Rename and reorder columns"
   ]
  },
  {
   "cell_type": "code",
   "execution_count": null,
   "id": "9c5442ff",
   "metadata": {},
   "outputs": [],
   "source": [
    "# rename columns for clarity\n",
    "df_combined.rename(columns={\n",
    "    \"house_number_scheme\": \"house_number_scheme_code\",\n",
    "    \"house_number_scheme_label\": \"house_number_scheme\",\n",
    "    \"street_side\": \"territorial_side\"\n",
    "}, inplace=True)"
   ]
  },
  {
   "cell_type": "code",
   "execution_count": null,
   "id": "02deac76",
   "metadata": {},
   "outputs": [],
   "source": [
    "# reorder columns for clarity\n",
    "columns_order = [\n",
    "    \"street_name\", \n",
    "    \"district\",\n",
    "    \"territorial_side\",\n",
    "    \"house_number_range\",\n",
    "    \"house_number_scheme_code\",\n",
    "    \"house_number_scheme\",\n",
    "    \"classification\"\n",
    "]\n",
    "\n",
    "df_combined = df_combined[columns_order]"
   ]
  },
  {
   "cell_type": "markdown",
   "id": "25f18b72",
   "metadata": {},
   "source": [
    "## Data Overview"
   ]
  },
  {
   "cell_type": "code",
   "execution_count": null,
   "id": "294784e2",
   "metadata": {},
   "outputs": [
    {
     "data": {
      "text/html": [
       "<div>\n",
       "<style scoped>\n",
       "    .dataframe tbody tr th:only-of-type {\n",
       "        vertical-align: middle;\n",
       "    }\n",
       "\n",
       "    .dataframe tbody tr th {\n",
       "        vertical-align: top;\n",
       "    }\n",
       "\n",
       "    .dataframe thead th {\n",
       "        text-align: right;\n",
       "    }\n",
       "</style>\n",
       "<table border=\"1\" class=\"dataframe\">\n",
       "  <thead>\n",
       "    <tr style=\"text-align: right;\">\n",
       "      <th></th>\n",
       "      <th>street_name</th>\n",
       "      <th>district</th>\n",
       "      <th>territorial_side</th>\n",
       "      <th>house_number_range</th>\n",
       "      <th>house_number_scheme_code</th>\n",
       "      <th>house_number_scheme</th>\n",
       "      <th>classification</th>\n",
       "    </tr>\n",
       "  </thead>\n",
       "  <tbody>\n",
       "    <tr>\n",
       "      <th>1</th>\n",
       "      <td>Aachener Straße</td>\n",
       "      <td>Charlottenburg-Wilmersdorf</td>\n",
       "      <td>West (pre-2000)</td>\n",
       "      <td>1 - 4 A</td>\n",
       "      <td>F</td>\n",
       "      <td>Consecutive numbering</td>\n",
       "      <td>mittel</td>\n",
       "    </tr>\n",
       "    <tr>\n",
       "      <th>2</th>\n",
       "      <td>Aachener Straße</td>\n",
       "      <td>Charlottenburg-Wilmersdorf</td>\n",
       "      <td>West (pre-2000)</td>\n",
       "      <td>5 - 16</td>\n",
       "      <td>F</td>\n",
       "      <td>Consecutive numbering</td>\n",
       "      <td>gut</td>\n",
       "    </tr>\n",
       "    <tr>\n",
       "      <th>3</th>\n",
       "      <td>Aachener Straße</td>\n",
       "      <td>Charlottenburg-Wilmersdorf</td>\n",
       "      <td>West (pre-2000)</td>\n",
       "      <td>17 - 26</td>\n",
       "      <td>F</td>\n",
       "      <td>Consecutive numbering</td>\n",
       "      <td>mittel</td>\n",
       "    </tr>\n",
       "    <tr>\n",
       "      <th>4</th>\n",
       "      <td>Aachener Straße</td>\n",
       "      <td>Charlottenburg-Wilmersdorf</td>\n",
       "      <td>West (pre-2000)</td>\n",
       "      <td>27 - 45</td>\n",
       "      <td>F</td>\n",
       "      <td>Consecutive numbering</td>\n",
       "      <td>gut</td>\n",
       "    </tr>\n",
       "    <tr>\n",
       "      <th>5</th>\n",
       "      <td>Aalemannufer</td>\n",
       "      <td>Spandau</td>\n",
       "      <td>West (pre-2000)</td>\n",
       "      <td>whole street</td>\n",
       "      <td>K</td>\n",
       "      <td>Complete street</td>\n",
       "      <td>mittel</td>\n",
       "    </tr>\n",
       "  </tbody>\n",
       "</table>\n",
       "</div>"
      ],
      "text/plain": [
       "       street_name                    district territorial_side  \\\n",
       "1  Aachener Straße  Charlottenburg-Wilmersdorf  West (pre-2000)   \n",
       "2  Aachener Straße  Charlottenburg-Wilmersdorf  West (pre-2000)   \n",
       "3  Aachener Straße  Charlottenburg-Wilmersdorf  West (pre-2000)   \n",
       "4  Aachener Straße  Charlottenburg-Wilmersdorf  West (pre-2000)   \n",
       "5     Aalemannufer                     Spandau  West (pre-2000)   \n",
       "\n",
       "  house_number_range house_number_scheme_code    house_number_scheme  \\\n",
       "1            1 - 4 A                        F  Consecutive numbering   \n",
       "2             5 - 16                        F  Consecutive numbering   \n",
       "3            17 - 26                        F  Consecutive numbering   \n",
       "4            27 - 45                        F  Consecutive numbering   \n",
       "5       whole street                        K        Complete street   \n",
       "\n",
       "  classification  \n",
       "1         mittel  \n",
       "2            gut  \n",
       "3         mittel  \n",
       "4            gut  \n",
       "5         mittel  "
      ]
     },
     "execution_count": 17,
     "metadata": {},
     "output_type": "execute_result"
    }
   ],
   "source": [
    "df_combined.head()"
   ]
  },
  {
   "cell_type": "markdown",
   "id": "fc1c80e6",
   "metadata": {},
   "source": [
    "# Street District Rental Map 2023"
   ]
  },
  {
   "cell_type": "markdown",
   "id": "a07baac9",
   "metadata": {},
   "source": [
    "## Environment and raw data"
   ]
  },
  {
   "cell_type": "code",
   "execution_count": null,
   "id": "252b4e65",
   "metadata": {},
   "outputs": [],
   "source": [
    "# import street directory 2023 CSV\n",
    "df_2023 = pd.read_csv(\"../data/street_directory_rental_map_2023.csv\", on_bad_lines='skip')"
   ]
  },
  {
   "cell_type": "code",
   "execution_count": null,
   "id": "4ca22270",
   "metadata": {},
   "outputs": [
    {
     "data": {
      "text/html": [
       "<div>\n",
       "<style scoped>\n",
       "    .dataframe tbody tr th:only-of-type {\n",
       "        vertical-align: middle;\n",
       "    }\n",
       "\n",
       "    .dataframe tbody tr th {\n",
       "        vertical-align: top;\n",
       "    }\n",
       "\n",
       "    .dataframe thead th {\n",
       "        text-align: right;\n",
       "    }\n",
       "</style>\n",
       "<table border=\"1\" class=\"dataframe\">\n",
       "  <thead>\n",
       "    <tr style=\"text-align: right;\">\n",
       "      <th></th>\n",
       "      <th>Straßenname1</th>\n",
       "      <th>Bezirk2</th>\n",
       "      <th>G3</th>\n",
       "      <th>Hausnr.4</th>\n",
       "      <th>B5</th>\n",
       "      <th>WL6 WL7</th>\n",
       "      <th>Unnamed: 6</th>\n",
       "      <th>Straßenname1.1</th>\n",
       "      <th>Bezirk2.1</th>\n",
       "      <th>G3 Hausnr.4</th>\n",
       "      <th>Unnamed: 10</th>\n",
       "      <th>B5.1</th>\n",
       "      <th>WL6 WL7.1</th>\n",
       "    </tr>\n",
       "  </thead>\n",
       "  <tbody>\n",
       "    <tr>\n",
       "      <th>0</th>\n",
       "      <td>A</td>\n",
       "      <td>NaN</td>\n",
       "      <td>NaN</td>\n",
       "      <td>NaN</td>\n",
       "      <td>NaN</td>\n",
       "      <td>NaN</td>\n",
       "      <td>NaN</td>\n",
       "      <td>Adalbertstraße</td>\n",
       "      <td>FrKr</td>\n",
       "      <td>W 9</td>\n",
       "      <td>- 23 A</td>\n",
       "      <td>F</td>\n",
       "      <td>einfach * Z</td>\n",
       "    </tr>\n",
       "    <tr>\n",
       "      <th>1</th>\n",
       "      <td>Aachener Straße</td>\n",
       "      <td>ChWi</td>\n",
       "      <td>W</td>\n",
       "      <td>1 - 8</td>\n",
       "      <td>F</td>\n",
       "      <td>mittel Z</td>\n",
       "      <td>NaN</td>\n",
       "      <td>Adalbertstraße</td>\n",
       "      <td>FrKr</td>\n",
       "      <td>W 23 B</td>\n",
       "      <td>NaN</td>\n",
       "      <td>F</td>\n",
       "      <td>einfach Z</td>\n",
       "    </tr>\n",
       "    <tr>\n",
       "      <th>2</th>\n",
       "      <td>Aachener Straße</td>\n",
       "      <td>ChWi</td>\n",
       "      <td>W</td>\n",
       "      <td>12 - 26</td>\n",
       "      <td>F</td>\n",
       "      <td>mittel * Z</td>\n",
       "      <td>NaN</td>\n",
       "      <td>Adalbertstraße</td>\n",
       "      <td>FrKr</td>\n",
       "      <td>W 67</td>\n",
       "      <td>- 75</td>\n",
       "      <td>F</td>\n",
       "      <td>einfach * Z</td>\n",
       "    </tr>\n",
       "    <tr>\n",
       "      <th>3</th>\n",
       "      <td>Aachener Straße</td>\n",
       "      <td>ChWi</td>\n",
       "      <td>W</td>\n",
       "      <td>27 - 30</td>\n",
       "      <td>F</td>\n",
       "      <td>gut * Z</td>\n",
       "      <td>NaN</td>\n",
       "      <td>Adalbertstraße</td>\n",
       "      <td>FrKr</td>\n",
       "      <td>W 75 A</td>\n",
       "      <td>NaN</td>\n",
       "      <td>F</td>\n",
       "      <td>einfach Z</td>\n",
       "    </tr>\n",
       "    <tr>\n",
       "      <th>4</th>\n",
       "      <td>Aachener Straße</td>\n",
       "      <td>ChWi</td>\n",
       "      <td>W</td>\n",
       "      <td>31 - 44</td>\n",
       "      <td>F</td>\n",
       "      <td>gut Z</td>\n",
       "      <td>NaN</td>\n",
       "      <td>Adalbertstraße</td>\n",
       "      <td>FrKr</td>\n",
       "      <td>W 76</td>\n",
       "      <td>- 81</td>\n",
       "      <td>F</td>\n",
       "      <td>einfach * Z</td>\n",
       "    </tr>\n",
       "  </tbody>\n",
       "</table>\n",
       "</div>"
      ],
      "text/plain": [
       "      Straßenname1 Bezirk2   G3 Hausnr.4   B5     WL6 WL7  Unnamed: 6  \\\n",
       "0                A     NaN  NaN      NaN  NaN         NaN         NaN   \n",
       "1  Aachener Straße    ChWi    W    1 - 8    F    mittel Z         NaN   \n",
       "2  Aachener Straße    ChWi    W  12 - 26    F  mittel * Z         NaN   \n",
       "3  Aachener Straße    ChWi    W  27 - 30    F     gut * Z         NaN   \n",
       "4  Aachener Straße    ChWi    W  31 - 44    F       gut Z         NaN   \n",
       "\n",
       "   Straßenname1.1 Bezirk2.1 G3 Hausnr.4 Unnamed: 10 B5.1    WL6 WL7.1  \n",
       "0  Adalbertstraße      FrKr         W 9      - 23 A    F  einfach * Z  \n",
       "1  Adalbertstraße      FrKr      W 23 B         NaN    F    einfach Z  \n",
       "2  Adalbertstraße      FrKr        W 67        - 75    F  einfach * Z  \n",
       "3  Adalbertstraße      FrKr      W 75 A         NaN    F    einfach Z  \n",
       "4  Adalbertstraße      FrKr        W 76        - 81    F  einfach * Z  "
      ]
     },
     "execution_count": 19,
     "metadata": {},
     "output_type": "execute_result"
    }
   ],
   "source": [
    "df_2023.head()"
   ]
  },
  {
   "cell_type": "code",
   "execution_count": null,
   "id": "1209aff2",
   "metadata": {},
   "outputs": [],
   "source": [
    "# Split into left and right halves\n",
    "df_left_23 = df_2024.iloc[:, 0:5].copy()   \n",
    "df_right_23 = df_2024.iloc[:, 5:12].copy() "
   ]
  },
  {
   "cell_type": "code",
   "execution_count": null,
   "id": "dab7bdac",
   "metadata": {},
   "outputs": [
    {
     "data": {
      "text/html": [
       "<div>\n",
       "<style scoped>\n",
       "    .dataframe tbody tr th:only-of-type {\n",
       "        vertical-align: middle;\n",
       "    }\n",
       "\n",
       "    .dataframe tbody tr th {\n",
       "        vertical-align: top;\n",
       "    }\n",
       "\n",
       "    .dataframe thead th {\n",
       "        text-align: right;\n",
       "    }\n",
       "</style>\n",
       "<table border=\"1\" class=\"dataframe\">\n",
       "  <thead>\n",
       "    <tr style=\"text-align: right;\">\n",
       "      <th></th>\n",
       "      <th>Straßenname1</th>\n",
       "      <th>Bezirk2 G3 Hausnr.4</th>\n",
       "      <th>Unnamed: 2</th>\n",
       "      <th>B5</th>\n",
       "      <th>WL6</th>\n",
       "    </tr>\n",
       "  </thead>\n",
       "  <tbody>\n",
       "    <tr>\n",
       "      <th>0</th>\n",
       "      <td>A</td>\n",
       "      <td>NaN</td>\n",
       "      <td>NaN</td>\n",
       "      <td>NaN</td>\n",
       "      <td>NaN</td>\n",
       "    </tr>\n",
       "    <tr>\n",
       "      <th>1</th>\n",
       "      <td>Aachener Straße</td>\n",
       "      <td>ChWi W 1</td>\n",
       "      <td>- 4 A</td>\n",
       "      <td>F</td>\n",
       "      <td>mittel</td>\n",
       "    </tr>\n",
       "    <tr>\n",
       "      <th>2</th>\n",
       "      <td>Aachener Straße</td>\n",
       "      <td>ChWi W 5</td>\n",
       "      <td>- 16</td>\n",
       "      <td>F</td>\n",
       "      <td>gut</td>\n",
       "    </tr>\n",
       "    <tr>\n",
       "      <th>3</th>\n",
       "      <td>Aachener Straße</td>\n",
       "      <td>ChWi W 17</td>\n",
       "      <td>- 26</td>\n",
       "      <td>F</td>\n",
       "      <td>mittel</td>\n",
       "    </tr>\n",
       "    <tr>\n",
       "      <th>4</th>\n",
       "      <td>Aachener Straße</td>\n",
       "      <td>ChWi W 27</td>\n",
       "      <td>- 45</td>\n",
       "      <td>F</td>\n",
       "      <td>gut</td>\n",
       "    </tr>\n",
       "  </tbody>\n",
       "</table>\n",
       "</div>"
      ],
      "text/plain": [
       "      Straßenname1 Bezirk2 G3 Hausnr.4 Unnamed: 2   B5     WL6\n",
       "0                A                 NaN        NaN  NaN     NaN\n",
       "1  Aachener Straße            ChWi W 1      - 4 A    F  mittel\n",
       "2  Aachener Straße            ChWi W 5       - 16    F     gut\n",
       "3  Aachener Straße           ChWi W 17       - 26    F  mittel\n",
       "4  Aachener Straße           ChWi W 27       - 45    F     gut"
      ]
     },
     "execution_count": 21,
     "metadata": {},
     "output_type": "execute_result"
    }
   ],
   "source": [
    "df_left_23.head()"
   ]
  },
  {
   "cell_type": "code",
   "execution_count": null,
   "id": "3d6b2437",
   "metadata": {},
   "outputs": [],
   "source": [
    "# Rename columns for clarity\n",
    "df_left_23.columns = [\"street_name\", \"district\", \"house_number\", \"house_number_scheme_code\", \"classification\"]"
   ]
  },
  {
   "cell_type": "code",
   "execution_count": null,
   "id": "7f4187e3",
   "metadata": {},
   "outputs": [
    {
     "name": "stdout",
     "output_type": "stream",
     "text": [
      "Split columns shape: (7095, 3)\n",
      "      0    1    2\n",
      "0   NaN  NaN  NaN\n",
      "1  ChWi    W    1\n",
      "2  ChWi    W    5\n",
      "3  ChWi    W   17\n",
      "4  ChWi    W   27\n"
     ]
    }
   ],
   "source": [
    "split_columns = df_left_23[\"district\"].str.split(\" \", n=2, expand=True)\n",
    "\n",
    "print(\"Split columns shape:\", split_columns.shape)\n",
    "print(split_columns.head())"
   ]
  },
  {
   "cell_type": "code",
   "execution_count": null,
   "id": "4fcc26c7",
   "metadata": {},
   "outputs": [],
   "source": [
    "# Assign with fallbacks\n",
    "df_left_23[\"district_code\"] = split_columns[0]\n",
    "df_left_23[\"territorial_side\"] = split_columns[1]\n",
    "df_left_23[\"house_number_range\"] = split_columns[2]  # will be NaN if missing"
   ]
  },
  {
   "cell_type": "code",
   "execution_count": null,
   "id": "d4b3d318",
   "metadata": {},
   "outputs": [
    {
     "data": {
      "text/html": [
       "<div>\n",
       "<style scoped>\n",
       "    .dataframe tbody tr th:only-of-type {\n",
       "        vertical-align: middle;\n",
       "    }\n",
       "\n",
       "    .dataframe tbody tr th {\n",
       "        vertical-align: top;\n",
       "    }\n",
       "\n",
       "    .dataframe thead th {\n",
       "        text-align: right;\n",
       "    }\n",
       "</style>\n",
       "<table border=\"1\" class=\"dataframe\">\n",
       "  <thead>\n",
       "    <tr style=\"text-align: right;\">\n",
       "      <th></th>\n",
       "      <th>street_name</th>\n",
       "      <th>house_number_scheme_code</th>\n",
       "      <th>classification</th>\n",
       "      <th>district_code</th>\n",
       "      <th>territorial_side</th>\n",
       "      <th>house_number_range</th>\n",
       "    </tr>\n",
       "  </thead>\n",
       "  <tbody>\n",
       "    <tr>\n",
       "      <th>0</th>\n",
       "      <td>A</td>\n",
       "      <td>NaN</td>\n",
       "      <td>NaN</td>\n",
       "      <td>NaN</td>\n",
       "      <td>NaN</td>\n",
       "      <td>NaN</td>\n",
       "    </tr>\n",
       "    <tr>\n",
       "      <th>1</th>\n",
       "      <td>Aachener Straße</td>\n",
       "      <td>F</td>\n",
       "      <td>mittel</td>\n",
       "      <td>ChWi</td>\n",
       "      <td>W</td>\n",
       "      <td>1 - 4 A</td>\n",
       "    </tr>\n",
       "    <tr>\n",
       "      <th>2</th>\n",
       "      <td>Aachener Straße</td>\n",
       "      <td>F</td>\n",
       "      <td>gut</td>\n",
       "      <td>ChWi</td>\n",
       "      <td>W</td>\n",
       "      <td>5 - 16</td>\n",
       "    </tr>\n",
       "    <tr>\n",
       "      <th>3</th>\n",
       "      <td>Aachener Straße</td>\n",
       "      <td>F</td>\n",
       "      <td>mittel</td>\n",
       "      <td>ChWi</td>\n",
       "      <td>W</td>\n",
       "      <td>17 - 26</td>\n",
       "    </tr>\n",
       "    <tr>\n",
       "      <th>4</th>\n",
       "      <td>Aachener Straße</td>\n",
       "      <td>F</td>\n",
       "      <td>gut</td>\n",
       "      <td>ChWi</td>\n",
       "      <td>W</td>\n",
       "      <td>27 - 45</td>\n",
       "    </tr>\n",
       "  </tbody>\n",
       "</table>\n",
       "</div>"
      ],
      "text/plain": [
       "       street_name house_number_scheme_code classification district_code  \\\n",
       "0                A                      NaN            NaN           NaN   \n",
       "1  Aachener Straße                        F         mittel          ChWi   \n",
       "2  Aachener Straße                        F            gut          ChWi   \n",
       "3  Aachener Straße                        F         mittel          ChWi   \n",
       "4  Aachener Straße                        F            gut          ChWi   \n",
       "\n",
       "  territorial_side house_number_range  \n",
       "0              NaN                NaN  \n",
       "1                W            1 - 4 A  \n",
       "2                W             5 - 16  \n",
       "3                W            17 - 26  \n",
       "4                W            27 - 45  "
      ]
     },
     "execution_count": 28,
     "metadata": {},
     "output_type": "execute_result"
    }
   ],
   "source": [
    "df_left_23.head()"
   ]
  },
  {
   "cell_type": "code",
   "execution_count": null,
   "id": "919a4655",
   "metadata": {},
   "outputs": [],
   "source": [
    "# drop district column\n",
    "df_left_23.drop(columns=[\"district\"], inplace=True)"
   ]
  },
  {
   "cell_type": "code",
   "execution_count": null,
   "id": "4dee829b",
   "metadata": {},
   "outputs": [],
   "source": [
    "# If house_number is missing, keep house_number_range only\n",
    "df_left_23[\"house_number_range\"] = df_left_23.apply(\n",
    "    lambda row: f\"{row['house_number_range']} {row['house_number']}\".strip()\n",
    "    if pd.notnull(row['house_number_range']) and pd.notnull(row['house_number'])\n",
    "    else row['house_number'] if pd.isnull(row['house_number_range']) else str(row['house_number_range']),\n",
    "    axis=1\n",
    ")\n",
    "\n",
    "# Drop the now redundant 'house_number' column\n",
    "df_left_23.drop(columns=[\"house_number\"], inplace=True)"
   ]
  },
  {
   "cell_type": "code",
   "execution_count": null,
   "id": "e7b72182",
   "metadata": {},
   "outputs": [
    {
     "data": {
      "text/html": [
       "<div>\n",
       "<style scoped>\n",
       "    .dataframe tbody tr th:only-of-type {\n",
       "        vertical-align: middle;\n",
       "    }\n",
       "\n",
       "    .dataframe tbody tr th {\n",
       "        vertical-align: top;\n",
       "    }\n",
       "\n",
       "    .dataframe thead th {\n",
       "        text-align: right;\n",
       "    }\n",
       "</style>\n",
       "<table border=\"1\" class=\"dataframe\">\n",
       "  <thead>\n",
       "    <tr style=\"text-align: right;\">\n",
       "      <th></th>\n",
       "      <th>street_name</th>\n",
       "      <th>house_number_range</th>\n",
       "      <th>house_number_scheme_code</th>\n",
       "      <th>classification</th>\n",
       "      <th>district_code</th>\n",
       "      <th>territorial_side</th>\n",
       "    </tr>\n",
       "  </thead>\n",
       "  <tbody>\n",
       "    <tr>\n",
       "      <th>0</th>\n",
       "      <td>Agricolastraße</td>\n",
       "      <td>28 - 33 A</td>\n",
       "      <td>F</td>\n",
       "      <td>gut</td>\n",
       "      <td>Mitt</td>\n",
       "      <td>W</td>\n",
       "    </tr>\n",
       "    <tr>\n",
       "      <th>1</th>\n",
       "      <td>Ahlbecker Straße</td>\n",
       "      <td>NaN</td>\n",
       "      <td>K</td>\n",
       "      <td>gut</td>\n",
       "      <td>Pank</td>\n",
       "      <td>O</td>\n",
       "    </tr>\n",
       "    <tr>\n",
       "      <th>2</th>\n",
       "      <td>Ahlbeerensteig</td>\n",
       "      <td>NaN</td>\n",
       "      <td>K</td>\n",
       "      <td>einfach</td>\n",
       "      <td>Span</td>\n",
       "      <td>O</td>\n",
       "    </tr>\n",
       "    <tr>\n",
       "      <th>3</th>\n",
       "      <td>Ahlener Weg</td>\n",
       "      <td>NaN</td>\n",
       "      <td>K</td>\n",
       "      <td>einfach</td>\n",
       "      <td>StZe</td>\n",
       "      <td>W</td>\n",
       "    </tr>\n",
       "    <tr>\n",
       "      <th>4</th>\n",
       "      <td>Ahornallee</td>\n",
       "      <td>2</td>\n",
       "      <td>F</td>\n",
       "      <td>mittel</td>\n",
       "      <td>ChWi</td>\n",
       "      <td>W</td>\n",
       "    </tr>\n",
       "  </tbody>\n",
       "</table>\n",
       "</div>"
      ],
      "text/plain": [
       "        street_name house_number_range house_number_scheme_code  \\\n",
       "0    Agricolastraße          28 - 33 A                        F   \n",
       "1  Ahlbecker Straße                NaN                        K   \n",
       "2    Ahlbeerensteig                NaN                        K   \n",
       "3       Ahlener Weg                NaN                        K   \n",
       "4        Ahornallee                  2                        F   \n",
       "\n",
       "  classification district_code territorial_side  \n",
       "0            gut          Mitt                W  \n",
       "1            gut          Pank                O  \n",
       "2        einfach          Span                O  \n",
       "3        einfach          StZe                W  \n",
       "4         mittel          ChWi                W  "
      ]
     },
     "execution_count": 40,
     "metadata": {},
     "output_type": "execute_result"
    }
   ],
   "source": [
    "df_right_23.head()"
   ]
  },
  {
   "cell_type": "code",
   "execution_count": null,
   "id": "99d71423",
   "metadata": {},
   "outputs": [],
   "source": [
    "# Rename columns for clarity\n",
    "df_right_23.rename(columns={\n",
    "    \"Straßenname1.1\": \"street_name\",\n",
    "    \"Bezirk2 G3\": \"district\",\n",
    "    \"Hausnr.4\": \"house_number_range\",\n",
    "    \"B5.1\": \"house_number_scheme_code\",\n",
    "    \"WL6.1\": \"classification\"\n",
    "}, inplace=True)"
   ]
  },
  {
   "cell_type": "code",
   "execution_count": null,
   "id": "35a32cdc",
   "metadata": {},
   "outputs": [],
   "source": [
    "# split district column in 2\n",
    "split_colmns = df_right_23[\"district\"].str.split(\" \", n=2, expand=True)\n",
    "\n",
    "df_right_23[\"district_code\"] = split_colmns[0]\n",
    "df_right_23[\"territorial_side\"] = split_colmns[1]\n",
    "\n",
    "# drop district column\n",
    "df_right_23.drop(columns=[\"district\"], inplace=True)"
   ]
  },
  {
   "cell_type": "code",
   "execution_count": null,
   "id": "f80127d8",
   "metadata": {},
   "outputs": [],
   "source": [
    "df_combined_23 = pd.concat([df_left_23, df_right_23], ignore_index=True)"
   ]
  },
  {
   "cell_type": "code",
   "execution_count": null,
   "id": "2337cd9d",
   "metadata": {},
   "outputs": [
    {
     "data": {
      "text/html": [
       "<div>\n",
       "<style scoped>\n",
       "    .dataframe tbody tr th:only-of-type {\n",
       "        vertical-align: middle;\n",
       "    }\n",
       "\n",
       "    .dataframe tbody tr th {\n",
       "        vertical-align: top;\n",
       "    }\n",
       "\n",
       "    .dataframe thead th {\n",
       "        text-align: right;\n",
       "    }\n",
       "</style>\n",
       "<table border=\"1\" class=\"dataframe\">\n",
       "  <thead>\n",
       "    <tr style=\"text-align: right;\">\n",
       "      <th></th>\n",
       "      <th>street_name</th>\n",
       "      <th>house_number_scheme_code</th>\n",
       "      <th>classification</th>\n",
       "      <th>territorial_side</th>\n",
       "      <th>house_number_range</th>\n",
       "      <th>house_number_scheme</th>\n",
       "      <th>district</th>\n",
       "    </tr>\n",
       "  </thead>\n",
       "  <tbody>\n",
       "    <tr>\n",
       "      <th>1</th>\n",
       "      <td>Aachener Straße</td>\n",
       "      <td>F</td>\n",
       "      <td>mittel</td>\n",
       "      <td>W</td>\n",
       "      <td>1 - 4 A</td>\n",
       "      <td>Consecutive numbering</td>\n",
       "      <td>Charlottenburg-Wilmersdorf</td>\n",
       "    </tr>\n",
       "    <tr>\n",
       "      <th>2</th>\n",
       "      <td>Aachener Straße</td>\n",
       "      <td>F</td>\n",
       "      <td>gut</td>\n",
       "      <td>W</td>\n",
       "      <td>5 - 16</td>\n",
       "      <td>Consecutive numbering</td>\n",
       "      <td>Charlottenburg-Wilmersdorf</td>\n",
       "    </tr>\n",
       "    <tr>\n",
       "      <th>3</th>\n",
       "      <td>Aachener Straße</td>\n",
       "      <td>F</td>\n",
       "      <td>mittel</td>\n",
       "      <td>W</td>\n",
       "      <td>17 - 26</td>\n",
       "      <td>Consecutive numbering</td>\n",
       "      <td>Charlottenburg-Wilmersdorf</td>\n",
       "    </tr>\n",
       "    <tr>\n",
       "      <th>4</th>\n",
       "      <td>Aachener Straße</td>\n",
       "      <td>F</td>\n",
       "      <td>gut</td>\n",
       "      <td>W</td>\n",
       "      <td>27 - 45</td>\n",
       "      <td>Consecutive numbering</td>\n",
       "      <td>Charlottenburg-Wilmersdorf</td>\n",
       "    </tr>\n",
       "    <tr>\n",
       "      <th>5</th>\n",
       "      <td>Aalemannufer</td>\n",
       "      <td>K</td>\n",
       "      <td>mittel</td>\n",
       "      <td>W</td>\n",
       "      <td>NaN</td>\n",
       "      <td>Complete street</td>\n",
       "      <td>Spandau</td>\n",
       "    </tr>\n",
       "  </tbody>\n",
       "</table>\n",
       "</div>"
      ],
      "text/plain": [
       "       street_name house_number_scheme_code classification territorial_side  \\\n",
       "1  Aachener Straße                        F         mittel                W   \n",
       "2  Aachener Straße                        F            gut                W   \n",
       "3  Aachener Straße                        F         mittel                W   \n",
       "4  Aachener Straße                        F            gut                W   \n",
       "5     Aalemannufer                        K         mittel                W   \n",
       "\n",
       "  house_number_range    house_number_scheme                    district  \n",
       "1            1 - 4 A  Consecutive numbering  Charlottenburg-Wilmersdorf  \n",
       "2             5 - 16  Consecutive numbering  Charlottenburg-Wilmersdorf  \n",
       "3            17 - 26  Consecutive numbering  Charlottenburg-Wilmersdorf  \n",
       "4            27 - 45  Consecutive numbering  Charlottenburg-Wilmersdorf  \n",
       "5                NaN        Complete street                     Spandau  "
      ]
     },
     "execution_count": 55,
     "metadata": {},
     "output_type": "execute_result"
    }
   ],
   "source": [
    "df_combined_23.head()"
   ]
  },
  {
   "cell_type": "code",
   "execution_count": null,
   "id": "c5d5e6a5",
   "metadata": {},
   "outputs": [],
   "source": [
    "df_combined_23 = df_combined_23[df_combined_23[\"classification\"].notna()]"
   ]
  },
  {
   "cell_type": "code",
   "execution_count": null,
   "id": "bb070c75",
   "metadata": {},
   "outputs": [
    {
     "data": {
      "text/plain": [
       "np.int64(186)"
      ]
     },
     "execution_count": 46,
     "metadata": {},
     "output_type": "execute_result"
    }
   ],
   "source": [
    "# check duplicates\n",
    "df_combined_23.duplicated().sum()"
   ]
  },
  {
   "cell_type": "code",
   "execution_count": null,
   "id": "dc46b53e",
   "metadata": {},
   "outputs": [],
   "source": [
    "# drop duplicates\n",
    "df_combined_23 = df_combined_23.drop_duplicates()"
   ]
  },
  {
   "cell_type": "code",
   "execution_count": null,
   "id": "bea538bd",
   "metadata": {},
   "outputs": [],
   "source": [
    "df_combined_23[\"house_number_scheme\"] = df_combined_23[\"house_number_scheme_code\"].map(scheme_map)"
   ]
  },
  {
   "cell_type": "code",
   "execution_count": null,
   "id": "933dd611",
   "metadata": {},
   "outputs": [],
   "source": [
    "df_combined_23[\"district\"] = df_combined_23[\"district_code\"].map(district_map)\n",
    "# drop district code column\n",
    "df_combined_23.drop(columns=[\"district_code\"], inplace=True)"
   ]
  },
  {
   "cell_type": "code",
   "execution_count": null,
   "id": "7e620952",
   "metadata": {},
   "outputs": [],
   "source": [
    "# Reorder columns for clarity\n",
    "columns_order_23 = [\n",
    "    \"street_name\",\n",
    "    \"district\",\n",
    "    \"territorial_side\",\n",
    "    \"house_number_range\",\n",
    "    \"house_number_scheme_code\",\n",
    "    \"house_number_scheme\",\n",
    "    \"classification\"\n",
    "]\n",
    "\n",
    "df_combined_23 = df_combined_23[columns_order_23]"
   ]
  },
  {
   "cell_type": "code",
   "execution_count": null,
   "id": "0b47e419",
   "metadata": {},
   "outputs": [],
   "source": []
  },
  {
   "cell_type": "code",
   "execution_count": null,
   "id": "b651a7e9",
   "metadata": {},
   "outputs": [
    {
     "data": {
      "text/html": [
       "<div>\n",
       "<style scoped>\n",
       "    .dataframe tbody tr th:only-of-type {\n",
       "        vertical-align: middle;\n",
       "    }\n",
       "\n",
       "    .dataframe tbody tr th {\n",
       "        vertical-align: top;\n",
       "    }\n",
       "\n",
       "    .dataframe thead th {\n",
       "        text-align: right;\n",
       "    }\n",
       "</style>\n",
       "<table border=\"1\" class=\"dataframe\">\n",
       "  <thead>\n",
       "    <tr style=\"text-align: right;\">\n",
       "      <th></th>\n",
       "      <th>street_name</th>\n",
       "      <th>district</th>\n",
       "      <th>territorial_side</th>\n",
       "      <th>house_number_range</th>\n",
       "      <th>house_number_scheme_code</th>\n",
       "      <th>house_number_scheme</th>\n",
       "      <th>classification</th>\n",
       "    </tr>\n",
       "  </thead>\n",
       "  <tbody>\n",
       "    <tr>\n",
       "      <th>1</th>\n",
       "      <td>Aachener Straße</td>\n",
       "      <td>Charlottenburg-Wilmersdorf</td>\n",
       "      <td>West (pre-2000)</td>\n",
       "      <td>1 - 4 A</td>\n",
       "      <td>F</td>\n",
       "      <td>Consecutive numbering</td>\n",
       "      <td>mittel</td>\n",
       "    </tr>\n",
       "    <tr>\n",
       "      <th>2</th>\n",
       "      <td>Aachener Straße</td>\n",
       "      <td>Charlottenburg-Wilmersdorf</td>\n",
       "      <td>West (pre-2000)</td>\n",
       "      <td>5 - 16</td>\n",
       "      <td>F</td>\n",
       "      <td>Consecutive numbering</td>\n",
       "      <td>gut</td>\n",
       "    </tr>\n",
       "    <tr>\n",
       "      <th>3</th>\n",
       "      <td>Aachener Straße</td>\n",
       "      <td>Charlottenburg-Wilmersdorf</td>\n",
       "      <td>West (pre-2000)</td>\n",
       "      <td>17 - 26</td>\n",
       "      <td>F</td>\n",
       "      <td>Consecutive numbering</td>\n",
       "      <td>mittel</td>\n",
       "    </tr>\n",
       "    <tr>\n",
       "      <th>4</th>\n",
       "      <td>Aachener Straße</td>\n",
       "      <td>Charlottenburg-Wilmersdorf</td>\n",
       "      <td>West (pre-2000)</td>\n",
       "      <td>27 - 45</td>\n",
       "      <td>F</td>\n",
       "      <td>Consecutive numbering</td>\n",
       "      <td>gut</td>\n",
       "    </tr>\n",
       "    <tr>\n",
       "      <th>5</th>\n",
       "      <td>Aalemannufer</td>\n",
       "      <td>Spandau</td>\n",
       "      <td>West (pre-2000)</td>\n",
       "      <td>NaN</td>\n",
       "      <td>K</td>\n",
       "      <td>Complete street</td>\n",
       "      <td>mittel</td>\n",
       "    </tr>\n",
       "  </tbody>\n",
       "</table>\n",
       "</div>"
      ],
      "text/plain": [
       "       street_name                    district territorial_side  \\\n",
       "1  Aachener Straße  Charlottenburg-Wilmersdorf  West (pre-2000)   \n",
       "2  Aachener Straße  Charlottenburg-Wilmersdorf  West (pre-2000)   \n",
       "3  Aachener Straße  Charlottenburg-Wilmersdorf  West (pre-2000)   \n",
       "4  Aachener Straße  Charlottenburg-Wilmersdorf  West (pre-2000)   \n",
       "5     Aalemannufer                     Spandau  West (pre-2000)   \n",
       "\n",
       "  house_number_range house_number_scheme_code    house_number_scheme  \\\n",
       "1            1 - 4 A                        F  Consecutive numbering   \n",
       "2             5 - 16                        F  Consecutive numbering   \n",
       "3            17 - 26                        F  Consecutive numbering   \n",
       "4            27 - 45                        F  Consecutive numbering   \n",
       "5                NaN                        K        Complete street   \n",
       "\n",
       "  classification  \n",
       "1         mittel  \n",
       "2            gut  \n",
       "3         mittel  \n",
       "4            gut  \n",
       "5         mittel  "
      ]
     },
     "execution_count": 61,
     "metadata": {},
     "output_type": "execute_result"
    }
   ],
   "source": [
    "df_combined_23.head()"
   ]
  },
  {
   "cell_type": "code",
   "execution_count": null,
   "id": "ccaf5b09",
   "metadata": {},
   "outputs": [],
   "source": [
    "df_combined_23[\"territorial_side\"] = df_combined_23[\"territorial_side\"].map(side_map)"
   ]
  },
  {
   "cell_type": "code",
   "execution_count": null,
   "id": "3f8bdfd9",
   "metadata": {},
   "outputs": [],
   "source": [
    "# Export the cleaned data to CSV\n",
    "output_path = \"../data/cleaned_data/street_directory_cleaned_2023.csv\"\n",
    "df_combined_23.to_csv(output_path, index=False)"
   ]
  },
  {
   "cell_type": "code",
   "execution_count": null,
   "id": "4387ace1",
   "metadata": {},
   "outputs": [],
   "source": [
    "# Export df_comnined to CSV\n",
    "output_path_combined = \"../data/cleaned_data/street_directory_cleaned_2024.csv\"\n",
    "df_combined.to_csv(output_path_combined, index=False)"
   ]
  },
  {
   "cell_type": "markdown",
   "id": "bf6405e8",
   "metadata": {},
   "source": [
    "# Kaggle dataset"
   ]
  },
  {
   "cell_type": "code",
   "execution_count": null,
   "id": "1e207d89",
   "metadata": {},
   "outputs": [
    {
     "name": "stdout",
     "output_type": "stream",
     "text": [
      "Downloading from https://www.kaggle.com/api/v1/datasets/download/nofullnames33/berlin-rent-per-square-meter-by-bezirk-district?dataset_version_number=4...\n"
     ]
    },
    {
     "name": "stderr",
     "output_type": "stream",
     "text": [
      "100%|██████████| 3.03k/3.03k [00:00<00:00, 1.70MB/s]"
     ]
    },
    {
     "name": "stdout",
     "output_type": "stream",
     "text": [
      "Extracting files...\n",
      "Path to dataset files: /Users/didodeboodt/.cache/kagglehub/datasets/nofullnames33/berlin-rent-per-square-meter-by-bezirk-district/versions/4\n"
     ]
    },
    {
     "name": "stderr",
     "output_type": "stream",
     "text": [
      "\n"
     ]
    }
   ],
   "source": [
    "import kagglehub\n",
    "\n",
    "# Download latest version\n",
    "path = kagglehub.dataset_download(\"nofullnames33/berlin-rent-per-square-meter-by-bezirk-district\")\n",
    "\n",
    "print(\"Path to dataset files:\", path)"
   ]
  },
  {
   "cell_type": "code",
   "execution_count": null,
   "id": "ab913ce2",
   "metadata": {},
   "outputs": [
    {
     "data": {
      "text/html": [
       "<div>\n",
       "<style scoped>\n",
       "    .dataframe tbody tr th:only-of-type {\n",
       "        vertical-align: middle;\n",
       "    }\n",
       "\n",
       "    .dataframe tbody tr th {\n",
       "        vertical-align: top;\n",
       "    }\n",
       "\n",
       "    .dataframe thead th {\n",
       "        text-align: right;\n",
       "    }\n",
       "</style>\n",
       "<table border=\"1\" class=\"dataframe\">\n",
       "  <thead>\n",
       "    <tr style=\"text-align: right;\">\n",
       "      <th></th>\n",
       "      <th>borough</th>\n",
       "      <th>bezirk</th>\n",
       "      <th>minRent</th>\n",
       "      <th>avgRent</th>\n",
       "      <th>maxRent</th>\n",
       "      <th>minBuy</th>\n",
       "      <th>avgBuy</th>\n",
       "      <th>maxBuy</th>\n",
       "      <th>url</th>\n",
       "    </tr>\n",
       "  </thead>\n",
       "  <tbody>\n",
       "    <tr>\n",
       "      <th>0</th>\n",
       "      <td>Charlottenburg (Charlottenburg)</td>\n",
       "      <td>Charlottenburg-Wilmersdorf</td>\n",
       "      <td>8.85</td>\n",
       "      <td>16.18</td>\n",
       "      <td>28.55</td>\n",
       "      <td>2079</td>\n",
       "      <td>5065</td>\n",
       "      <td>11014</td>\n",
       "      <td>https://www.immobilienscout24.de/immobilienpre...</td>\n",
       "    </tr>\n",
       "    <tr>\n",
       "      <th>1</th>\n",
       "      <td>Grunewald (Wilmersdorf)</td>\n",
       "      <td>Charlottenburg-Wilmersdorf</td>\n",
       "      <td>11.89</td>\n",
       "      <td>18.17</td>\n",
       "      <td>28.61</td>\n",
       "      <td>4412</td>\n",
       "      <td>7359</td>\n",
       "      <td>11834</td>\n",
       "      <td>https://www.immobilienscout24.de/immobilienpre...</td>\n",
       "    </tr>\n",
       "    <tr>\n",
       "      <th>2</th>\n",
       "      <td>Schmargendorf (Wilmersdorf)</td>\n",
       "      <td>Charlottenburg-Wilmersdorf</td>\n",
       "      <td>13.54</td>\n",
       "      <td>17.81</td>\n",
       "      <td>29.07</td>\n",
       "      <td>4790</td>\n",
       "      <td>7006</td>\n",
       "      <td>11762</td>\n",
       "      <td>https://www.immobilienscout24.de/immobilienpre...</td>\n",
       "    </tr>\n",
       "    <tr>\n",
       "      <th>3</th>\n",
       "      <td>Wilmersdorf (Wilmersdorf)</td>\n",
       "      <td>Charlottenburg-Wilmersdorf</td>\n",
       "      <td>13.59</td>\n",
       "      <td>15.77</td>\n",
       "      <td>28.04</td>\n",
       "      <td>3261</td>\n",
       "      <td>5259</td>\n",
       "      <td>11003</td>\n",
       "      <td>https://www.immobilienscout24.de/immobilienpre...</td>\n",
       "    </tr>\n",
       "    <tr>\n",
       "      <th>4</th>\n",
       "      <td>Friedrichshain (Friedrichshain)</td>\n",
       "      <td>Friedrichshain-Kreuzberg</td>\n",
       "      <td>13.68</td>\n",
       "      <td>16.79</td>\n",
       "      <td>28.59</td>\n",
       "      <td>3175</td>\n",
       "      <td>5052</td>\n",
       "      <td>9776</td>\n",
       "      <td>https://www.immobilienscout24.de/immobilienpre...</td>\n",
       "    </tr>\n",
       "  </tbody>\n",
       "</table>\n",
       "</div>"
      ],
      "text/plain": [
       "                           borough                      bezirk  minRent  \\\n",
       "0  Charlottenburg (Charlottenburg)  Charlottenburg-Wilmersdorf     8.85   \n",
       "1          Grunewald (Wilmersdorf)  Charlottenburg-Wilmersdorf    11.89   \n",
       "2      Schmargendorf (Wilmersdorf)  Charlottenburg-Wilmersdorf    13.54   \n",
       "3        Wilmersdorf (Wilmersdorf)  Charlottenburg-Wilmersdorf    13.59   \n",
       "4  Friedrichshain (Friedrichshain)    Friedrichshain-Kreuzberg    13.68   \n",
       "\n",
       "   avgRent  maxRent  minBuy  avgBuy  maxBuy  \\\n",
       "0    16.18    28.55    2079    5065   11014   \n",
       "1    18.17    28.61    4412    7359   11834   \n",
       "2    17.81    29.07    4790    7006   11762   \n",
       "3    15.77    28.04    3261    5259   11003   \n",
       "4    16.79    28.59    3175    5052    9776   \n",
       "\n",
       "                                                 url  \n",
       "0  https://www.immobilienscout24.de/immobilienpre...  \n",
       "1  https://www.immobilienscout24.de/immobilienpre...  \n",
       "2  https://www.immobilienscout24.de/immobilienpre...  \n",
       "3  https://www.immobilienscout24.de/immobilienpre...  \n",
       "4  https://www.immobilienscout24.de/immobilienpre...  "
      ]
     },
     "execution_count": 65,
     "metadata": {},
     "output_type": "execute_result"
    }
   ],
   "source": [
    "df_bezirk = pd.read_csv(\"../data/raw_data/bezirks.csv\")\n",
    "df_bezirk.head()"
   ]
  },
  {
   "cell_type": "code",
   "execution_count": null,
   "id": "0616ab0b",
   "metadata": {},
   "outputs": [],
   "source": []
  }
 ],
 "metadata": {
  "kernelspec": {
   "display_name": "venv",
   "language": "python",
   "name": "python3"
  },
  "language_info": {
   "codemirror_mode": {
    "name": "ipython",
    "version": 3
   },
   "file_extension": ".py",
   "mimetype": "text/x-python",
   "name": "python",
   "nbconvert_exporter": "python",
   "pygments_lexer": "ipython3",
   "version": "3.13.5"
  }
 },
 "nbformat": 4,
 "nbformat_minor": 5
}
